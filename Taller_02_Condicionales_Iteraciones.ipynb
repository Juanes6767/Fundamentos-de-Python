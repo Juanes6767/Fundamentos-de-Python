{
  "nbformat": 4,
  "nbformat_minor": 0,
  "metadata": {
    "colab": {
      "provenance": [],
      "toc_visible": true,
      "include_colab_link": true
    },
    "kernelspec": {
      "name": "python3",
      "display_name": "Python 3"
    }
  },
  "cells": [
    {
      "cell_type": "markdown",
      "metadata": {
        "id": "view-in-github",
        "colab_type": "text"
      },
      "source": [
        "<a href=\"https://colab.research.google.com/github/gabrielawad/Fundamentos-de-Python/blob/main/Taller_02_Condicionales_Iteraciones.ipynb\" target=\"_parent\"><img src=\"https://colab.research.google.com/assets/colab-badge.svg\" alt=\"Open In Colab\"/></a>"
      ]
    },
    {
      "cell_type": "markdown",
      "source": [
        "## *«Aquellos que llegan antes al río encuentran el agua más limpia».*\n",
        "\n",
        "### Proverbio africano"
      ],
      "metadata": {
        "id": "K0CeNdaw6VEW"
      }
    },
    {
      "cell_type": "markdown",
      "metadata": {
        "id": "Muw59radnmhY"
      },
      "source": [
        "# Taller 02 Condicionales e iteraciones\n",
        "\n",
        "En este taller aprenderá los conceptos básicos de Python 3 relativos a estructuras condicionales y a iteraciones"
      ]
    },
    {
      "cell_type": "markdown",
      "metadata": {
        "id": "w0t0Fl-Hyo_H"
      },
      "source": [
        "# Pruebas de escritorio con Python Tutor\n",
        "\n",
        "El [Python Tutor](https://pythontutor.com/) es una herramienta en línea que le permitirá realizar pruebas de escritorio de sus programas.\n",
        "\n",
        "Copie su código en el [Online Python compiler](https://pythontutor.com/visualize.html#mode=edit) y observe el paso a paso de la ejecución del programa."
      ]
    },
    {
      "cell_type": "markdown",
      "metadata": {
        "id": "5kyR0iZJ0Zji"
      },
      "source": [
        "## Función eval\n",
        "\n",
        "La función **eval ()** permite, entre otras cosas, convertir una entrada en un arreglo.\n",
        "\n",
        "El siguiente ejemplo le permitirá apreciar el funcionamiento de la función **eval ()**. Dentro del código encontrará la información que debe ingresar cuando el sistema se la solicite."
      ]
    },
    {
      "cell_type": "code",
      "metadata": {
        "id": "kmSm0WM80Z4S"
      },
      "source": [
        "\"\"\" Copie el siguiente código en https://pythontutor.com/visualize.html#mode=edit y observe\n",
        "el paso a paso de la ejecución.\n",
        "\"\"\"\n",
        "\n",
        "# Cuando el sistema lo requiera ingrese la siguiente expresión: [\"carlos\", 4, 5.0, True]\n",
        "lista0 = input(\"Ingrese los valores de la lista sencilla: \")\n",
        "print (\"Este es el contenido de lista0: \", lista0)\n",
        "\n",
        "# Lista sencilla\n",
        "# Cuando el sistema lo requiera ingrese la siguiente expresión: [\"carlos\", 4, 5.0, True]\n",
        "lista1 =eval (input(\"Ingrese los valores de la lista sencilla: \"))\n",
        "\n",
        "# Mostrar el contenido de lista1\n",
        "print (\"Este es el contenido de lista1: \", lista1)\n",
        "\n",
        "# Matriz sencilla\n",
        "# Cuando el sistema lo requiera ingrese la siguiente expresión: [[\"carlos\", 4, 5.0, True], [30, 50]]\n",
        "lista2 =eval (input(\"Ingrese los valores de la matriz sencilla: \"))\n",
        "\n",
        "# Mostrar el contenido de lista2\n",
        "print (\"Este es el contenido de lista2: \", lista2)"
      ],
      "execution_count": null,
      "outputs": []
    },
    {
      "cell_type": "markdown",
      "metadata": {
        "id": "yaXZ2-fhc-YU"
      },
      "source": [
        "### Otros usos de eval()"
      ]
    },
    {
      "cell_type": "code",
      "metadata": {
        "id": "ihxg6UhzeRGU"
      },
      "source": [
        "\"\"\" Copie el siguiente código en https://pythontutor.com/visualize.html#mode=edit y observe\n",
        "el paso a paso de la ejecución.\n",
        "\"\"\"\n",
        "\n",
        "# Otros usos de la función eval ()\n",
        "x = '5*6'\n",
        "print(f\"El tipo de x es {type(x)}\")\n",
        "\n",
        "y = eval(x)\n",
        "\n",
        "print (y)\n",
        "\n",
        "a = 50\n",
        "\n",
        "b = 100\n",
        "\n",
        "print(eval(\"a**2>b\"))"
      ],
      "execution_count": null,
      "outputs": []
    },
    {
      "cell_type": "markdown",
      "metadata": {
        "id": "bjRVclNcsMeW"
      },
      "source": [
        "## Tipos de datos\n",
        "\n",
        "Los datos son almacenados como **objetos** en Python. Los tipos de datos que maneja Python son: números enteros (**int**), decimales (**float**), cadenas (secuencias de letras o símbolos -**string**-), booleanos (**bool**).\n",
        "\n",
        "La función **type (object)**  permite identificar el tipo de dato que corresponde a un objeto."
      ]
    },
    {
      "cell_type": "code",
      "metadata": {
        "id": "bB8dDwlIscc-"
      },
      "source": [
        "\"\"\" Copie el siguiente código en https://pythontutor.com/visualize.html#mode=edit y observe\n",
        "el paso a paso de la ejecución.\n",
        "\"\"\"\n",
        "\n",
        "# Aplicación de la función type() a diferentes tipos de datos\n",
        "\n",
        "print(\"El tipo de dato de \\\"Hello, World!\\\" es: \", type(\"Hello, World!\"))\n",
        "\n",
        "print(\"El tipo de dato de 17 es: \", type(17))\n",
        "\n",
        "print(\"El tipo de dato de 4.0 es: \", type(4.0))\n",
        "\n",
        "print(\"El tipo de dato de True es: \", type(True))"
      ],
      "execution_count": null,
      "outputs": []
    },
    {
      "cell_type": "markdown",
      "metadata": {
        "id": "pCdpjKGGrSyn"
      },
      "source": [
        "# Expresiones Lógicas\n",
        "Una expresión lógica está dada por una comparación entre dos o más variables, y posiblemente entre varias operaciones lógicas. Siempre tienen un valor de falso (*False*) o verdadero (*True*), y su uso más común es en expresiones condicionales para determinar el flujo que seguirá un programa.\n",
        "\n",
        "Python cuenta con varios operadores para indicar que se está evaluando una expresión lógica y calcula su valor de verdad."
      ]
    },
    {
      "cell_type": "markdown",
      "metadata": {
        "id": "KOSNgg4ygOu1"
      },
      "source": [
        "## Operadores de comparación\n",
        "\n",
        "Hay seis operadores para comparar expresiones:\n",
        "* **>**    : operador **“Estrictamente mayor”**. Utilizado dentro de expresiones lógicas como (X > 3).\n",
        "* **>=**  : operador **“Mayor o igual”**. Utilizado dentro de expresiones lógicas como (X >= 3).\n",
        "* **<**    : operador “**Estrictamente menor”**. Utilizado dentro de expresiones lógicas como (X < 3).\n",
        "* **<=**  : operador **“Menor o igual”**. Utilizado dentro de expresiones lógicas como (X <= 3).\n",
        "* **==**  : operador **“Igual”**. Retorna *True* cuando los dos valores comparados son idénticos.\n",
        "* **!=**   : operador **“Diferente”**. Retorna *True* cuando los dos valores no son idénticos.\n"
      ]
    },
    {
      "cell_type": "code",
      "metadata": {
        "id": "gup3PggghnmD"
      },
      "source": [
        "\"\"\" Copie el siguiente código en https://pythontutor.com/visualize.html#mode=edit y observe\n",
        "el paso a paso de la ejecución.\n",
        "\"\"\"\n",
        "\n",
        "x = 4\n",
        "y  = 3\n",
        "z = x * y\n",
        "\n",
        "# Comparaciones\n",
        "\n",
        "print(\"¿Es\",x, \"mayor que\", y, \"?\")\n",
        "print(x > y)\n",
        "\n",
        "print(\"¿Es\",x, \"mayor que 4?\")\n",
        "print(x > 4)\n",
        "\n",
        "print(\"¿Es\",x, \"mayor o igual a 4?\")\n",
        "print(x >= 4)\n",
        "\n",
        "print(\"¿Es\",y, \"menor que\", x, \"?\")\n",
        "print(y < x)\n",
        "\n",
        "print(\"¿Es\",y, \"igual a 3?\")\n",
        "print(y == 3)\n",
        "\n",
        "print(\"¿Es\",y, \"igual a\", z,\"?\")\n",
        "print(y == z)\n",
        "\n",
        "print(\"¿Es\",x, \"diferente de\", y,\"?\")\n",
        "print(x != y)"
      ],
      "execution_count": null,
      "outputs": []
    },
    {
      "cell_type": "markdown",
      "metadata": {
        "id": "Fy03MOtsgrjh"
      },
      "source": [
        "## Operadores lógicos (booleanos)\n",
        "\n",
        "Hay dos operadores para calcular expresiones lógicas compuestas:\n",
        "* **or**     : retorna un valor verdadero (*True*) si cualquiera de las dos expresiones A ó B es verdadera. Sólo retorna falso (*False*) cuando ambas son falsas.\n",
        "* **and**  : retorna un valor verdadero (*True*) cuando ambas expresiones A y B son verdaderas.\n",
        "\n",
        "Hay un operador para cambiar o \"negar\" el valor de verdad de una expresión:\n",
        "\n",
        "* **not**  : retorna verdadero (*True*) cuando el valor de la expresión lógica que acompaña daría falso (*False*).\n"
      ]
    },
    {
      "cell_type": "code",
      "metadata": {
        "id": "RtwMCq2PrSyn"
      },
      "source": [
        "\"\"\" Copie el siguiente código en https://pythontutor.com/visualize.html#mode=edit y observe\n",
        "el paso a paso de la ejecución.\n",
        "\"\"\"\n",
        "\n",
        "# Crear tres variables\n",
        "x = 10\n",
        "y  = 20\n",
        "z =  x + y\n",
        "\n",
        "# Expresiones compuestas\n",
        "\n",
        "print(\"¿Es\", x, \"mayor que\", y, \"y menor que\", z,\"?\")\n",
        "print(x > y and x < z)\n",
        "\n",
        "print(\"¿Es\", x, \"igual a 4 y\", y, \"es mayor o igual a\", z,\"?\")\n",
        "print(x == 4 and y >= z)\n",
        "\n",
        "print(\"¿\", x, \"es diferente de 4 ó\", y, \"es menor que\", x,\"?\")\n",
        "print(x != 4 or y < x)\n",
        "\n",
        "print(\"¿Es\", x, \"menor que\", y,\"ó es \", x, \"mayor o igual a\", z,\"?\")\n",
        "print(x < y or x >= z)\n",
        "\n",
        "# Negaciones\n",
        "print(x, \"es mayor que\", y)\n",
        "print(x > y)\n",
        "\n",
        "print(x, \"NO es mayor que\", y)\n",
        "print( not (x > y) )"
      ],
      "execution_count": null,
      "outputs": []
    },
    {
      "cell_type": "markdown",
      "metadata": {
        "id": "gfoS3CIBhR1r"
      },
      "source": [
        "## Operadores de membresía\n",
        "\n",
        "Hay dos operadores para verificar la presencia de un elemento dentro de un objeto:\n",
        "* **in**     : retorna un valor verdadero (*True*) si el elemento se encuentra en el objeto y retorna falso (*False*) si el elmento no se encuentra en el objeto.\n",
        "* **not in**  : retorna un valor verdadero (*True*) si el elemento **no** se encuentra en el objeto y retorna falso (*False*) si el elemento **sí** se encuentra en el objeto.\n"
      ]
    },
    {
      "cell_type": "markdown",
      "metadata": {
        "id": "Zx16FgrkliMO"
      },
      "source": [
        "### cadenas de texto"
      ]
    },
    {
      "cell_type": "code",
      "metadata": {
        "id": "SilP-cechnLE"
      },
      "source": [
        "\"\"\" Copie el siguiente código en https://pythontutor.com/visualize.html#mode=edit y observe\n",
        "el paso a paso de la ejecución.\n",
        "\"\"\"\n",
        "\n",
        "texto = \"Hola mundo\"\n",
        "\n",
        "# Verificaciones de membresía\n",
        "\n",
        "print(f\"¿Hay una m en el texto?: {'m' in texto} \")\n",
        "\n",
        "print(f\"¿Hay una k en el texto?: {'k' in texto} \")\n",
        "\n",
        "\n",
        "print(f\"¿No hay una m en el texto?: {'m'not in texto} \")\n",
        "\n",
        "print(f\"¿No hay una k en el texto?: {'k'not in texto} \")"
      ],
      "execution_count": null,
      "outputs": []
    },
    {
      "cell_type": "markdown",
      "metadata": {
        "id": "-ZVClHDplncp"
      },
      "source": [
        "### listas"
      ]
    },
    {
      "cell_type": "code",
      "metadata": {
        "id": "8Xh0FPW2lqVh"
      },
      "source": [
        "\"\"\" Copie el siguiente código en https://pythontutor.com/visualize.html#mode=edit y observe\n",
        "el paso a paso de la ejecución.\n",
        "\"\"\"\n",
        "\n",
        "lista = [\"casa\", \"mesa\", \"silla\"]\n",
        "\n",
        "# Verificaciones de membresía\n",
        "\n",
        "print(f\"¿Está la palabra casa en la lista?: {'casa' in lista} \")\n",
        "\n",
        "print(f\"¿Está la palabra hueco en la lista?: {'hueco' in lista} \")\n",
        "\n",
        "\n",
        "print(f\"¿No está la palabra casa en la lista?: {'casa' not in lista} \")\n",
        "\n",
        "print(f\"¿No está la palabra hueco en la lista?: {'hueco' not in lista} \")"
      ],
      "execution_count": null,
      "outputs": []
    },
    {
      "cell_type": "markdown",
      "metadata": {
        "id": "-4Dtr9DbhcPU"
      },
      "source": [
        "## Operadores de identidad\n",
        "\n",
        "Hay dos operadores para verificar si dos objetos son el mismo objeto:\n",
        "* **is**     : Retorna un valor verdadero (*True*) si los dos objetos son el mismo objeto y retorna falso (*False*) si los objetos son diferentes.\n",
        "* **is not**  : Retorna un valor verdadero (*True*) si los objetos son diferentes y retorna falso (*False*) si los objetos son el mismo objeto."
      ]
    },
    {
      "cell_type": "code",
      "metadata": {
        "id": "7fRI0NpFntHe"
      },
      "source": [
        "\"\"\" Copie el siguiente código en https://pythontutor.com/visualize.html#mode=edit y observe\n",
        "el paso a paso de la ejecución.\n",
        "\"\"\"\n",
        "\n",
        "lista00 = [\"casa\", \"mesa\", \"silla\"]\n",
        "\n",
        "lista01 = [\"casa\", \"mesa\", \"silla\"]\n",
        "\n",
        "lista02 = lista00\n",
        "\n",
        "# Verificaciones de membresía\n",
        "\n",
        "print(f\"¿Es lista00 el mismo objeto que lista01?: {lista00 is lista01} \")\n",
        "\n",
        "print(f\"¿Es lista00 el mismo objeto que lista02?: {lista00 is lista02} \")\n",
        "\n",
        "print(f\"¿Es lista00 un objeto diferente que lista01?: {lista00 is not lista01} \")\n",
        "\n",
        "print(f\"¿Es lista00 un objeto diferente que lista02?: {lista00 is not lista02} \")\n"
      ],
      "execution_count": null,
      "outputs": []
    },
    {
      "cell_type": "markdown",
      "metadata": {
        "id": "a3GjtK4z2TYe"
      },
      "source": [
        "## Verificar el contenido de una cadena de texto\n",
        "\n",
        "Python dispone de unos métodos para verificar qué tipo de contenido hay en una cadena de texto.\n",
        "\n",
        "Puede encontrar más información en: [Métodos de cadenas de texto](https://www.w3schools.com/python/python_ref_string.asp)"
      ]
    },
    {
      "cell_type": "code",
      "metadata": {
        "id": "Y1Mn99YP23tN"
      },
      "source": [
        "\"\"\" Copie el siguiente código en https://pythontutor.com/visualize.html#mode=edit y observe\n",
        "el paso a paso de la ejecución.\n",
        "\"\"\"\n",
        "\n",
        "# Algunos métodos para revisar el contenido de una cadena de texto\n",
        "\n",
        "cadena00=\"1234\"\n",
        "cadena01= \"casa\"\n",
        "cadena02= \"casa1234\"\n",
        "cadena03=\"Disfruta tu día\"\n",
        "\n",
        "print(\"Cadena a analizar:\", cadena00)\n",
        "print(f\"todos los elementos de la cadena son alfanuméricos: {cadena00.isalnum()}\")\n",
        "print(\"Todos los elementos de la cadena son letras: {}\" .format(cadena00.isalpha()) )\n",
        "print(\"Todos los elementos de la cadena son dígitos: %s\" % cadena00.isdigit())\n",
        "print(\"\\n\")\n",
        "\n",
        "# crear una lista con las cadenas\n",
        "cadenas =[cadena00, cadena01, cadena02, cadena03]\n",
        "\n",
        "# ciclo for que analiza varias cadenas contenidas en una lista\n",
        "for w in cadenas:\n",
        "  print(\"Cadena a analizar:\", w)\n",
        "  print(f\"todos los elementos de la cadena son alfanuméricos: {w.isalnum()}\")\n",
        "  print(\"Todos los elementos de la cadena son letras: {}\" .format(w.isalpha()) )\n",
        "  print(\"Todos los elementos de la cadena son dígitos: %s\" % w.isdigit())\n",
        "  print(\"\\n\")"
      ],
      "execution_count": null,
      "outputs": []
    },
    {
      "cell_type": "markdown",
      "metadata": {
        "id": "7yC3sOAI9hJC"
      },
      "source": [
        "## Verificar si una cadena es un nombre válido en Python\n",
        "\n",
        "Puede consultar más información en:\n",
        "\n",
        "[Python Identifiers – Learn to name variables in Python](https://techvidvan.com/tutorials/python-identifiers/)"
      ]
    },
    {
      "cell_type": "code",
      "metadata": {
        "id": "lbT_MDv09uHk"
      },
      "source": [
        "\"\"\" Copie el siguiente código en https://pythontutor.com/visualize.html#mode=edit y observe\n",
        "el paso a paso de la ejecución.\n",
        "\"\"\"\n",
        "\n",
        "# Revisar si una cadena es un nombre válido en Python\n",
        "\n",
        "cadena04=\"9xyz\"\n",
        "cadena05= \"casa\"\n",
        "cadena06= \"casa1234\"\n",
        "cadena07=\"Disfruta tu día\"\n",
        "cadena08 =\"casa$\"\n",
        "cadena09=\"Disfruta_tu_dia\"\n",
        "\n",
        "# crear una lista con las cadenas\n",
        "cadenas2 =[cadena04, cadena05, cadena06, cadena07, cadena08, cadena09]\n",
        "\n",
        "# ciclo for que analiza varias cadenas contenidas en una lista\n",
        "for m in cadenas2:\n",
        "  print(f\"{m} es un nombre válido en Python: {m.isidentifier()} \\n\")\n"
      ],
      "execution_count": null,
      "outputs": []
    },
    {
      "cell_type": "markdown",
      "metadata": {
        "id": "iygl8Uw8rSyn"
      },
      "source": [
        "# Condicionales\n",
        "Los operadores condicionales consisten en un operador externo que evalúa una expresión lógica y, según el valor de ésta, ejecuta un bloque específico de instrucciones mientras que ignora otro(s).\n",
        "\n",
        "En Python, se cuenta con los siguientes condicionales:\n",
        "\n",
        "* **if(expresionLógica):** es el operador condicional más simple. Ejecutará el código si la expresión lógica que recibe como argumento es verdadera. Corresponde a la frase “si X, entonces…” en lenguaje natural. Todo lo que se encuentre con un TAB dentro del bloque if será ejecutado si la expresión lógica retorna un valor *True*. Nótese que deberá incluir un “:” después del paréntesis que encierra la expresión lógica.\n",
        "\n",
        "\n",
        "* **elif(otraExpresión)**: equivalente a *else if*. Se utiliza en conjunto con un *if* principal. Si el *if* recibe una expresión falsa, el siguiente elif evaluará otra expresión. Se utiliza en casos donde la condición para el *if* principal no sea cierta, pero otra condición sí lo es. En lenguaje natural, correspondería a algo como “si en vez de X ocurre Y, entonces…” y sólo funciona si se coloca en conjunto con un bloque if. Si la condición del if principal es cierta, la condición del elif (y por ende, el bloque de código que encierra) nunca se ejecuta.\n",
        "\n",
        "\n",
        "* **else**: se utiliza tras evaluar bloques *if* y *elif*. Si todas las condiciones pertenecientes a un bloque if y sus elif son falsas, se ejecuta el condicional else. En lenguaje natural, corresponde a la instrucción “si no ocurre X, entonces…”. Siempre debe ser utilizada en conjunto con un bloque if, pero no necesita que existan bloques elif anteriormente.\n",
        "\n"
      ]
    },
    {
      "cell_type": "code",
      "metadata": {
        "id": "peo9CesVrSyn"
      },
      "source": [
        "\"\"\" Copie el siguiente código en https://pythontutor.com/visualize.html#mode=edit y observe\n",
        "el paso a paso de la ejecución.\n",
        "\"\"\"\n",
        "\n",
        "x = 4\n",
        "y  = 3\n",
        "z = x*y\n",
        "\n",
        "# if simple\n",
        "if (x > y or z <= x):\n",
        "    print(\"Flujo 1 (BLOQUE IF)\")\n",
        "\n",
        "# if - else\n",
        "if (x > y and z <= x):\n",
        "    print(\"Flujo 1 ( BLOQUE IF-ELSE)\")\n",
        "else:\n",
        "    print(\"Flujo 2 (BLOQUE IF-ELSE)\")\n",
        "\n",
        "\n",
        "# if - elif\n",
        "if (not (x > y)):\n",
        "    print(\"Flujo 1 (BLOQUE IF-ELIF)\")\n",
        "elif (y > 0):\n",
        "    print(\"Flujo 2 (BLOQUE IF-ELIF)\")\n",
        "elif (z < x and x == 0):\n",
        "    print(\"Flujo 3 (BLOQUE IF-ELIF)\") #Se pueden colocar tantos elif como sean necesarios. Sólo ejecuta el primero que dé verdadero\n",
        "\n",
        "\n",
        "#if - elif - else\n",
        "if (x < y):\n",
        "    print(\"Flujo 1 (BLOQUE IF-ELIF-ELSE)\")\n",
        "elif (x < 0  or x == 0):\n",
        "    print(\"Flujo 2 (BLOQUE IF-ELIF-ELSE)\")\n",
        "elif (y > 0 and y > x):\n",
        "    print(\"Flujo 3 (BLOQUE IF-ELIF-ELSE)\")\n",
        "else:\n",
        "    print(\"Flujo 4 (BLOQUE IF-ELIF-ELSE)\")  #Si no se cumple el if ni algún elif, ejecuta automáticamente el else\n"
      ],
      "execution_count": null,
      "outputs": []
    },
    {
      "cell_type": "markdown",
      "metadata": {
        "id": "_WM8jLRWgXsX"
      },
      "source": [
        "## Condicionales anidados\n",
        "Dentro de un condicional, se puede tener cualquier cantidad de instrucciones, incluyendo otros condicionales. Es especialmente importante **tener cuidado con la indentación**, ya que esto es lo que hace que el intérprete de Python determine si un **if** se encuentra dentro de otro.\n",
        "\n",
        "Generalmente, no es una buena práctica tener \"**ifs**\" sencillos anidados. Idealmente, hay instrucciones adicionales entre cada bloque **if**, de forma que las expresiones lógicas de cada uno no se puedan combinar en una expresión lógica compuesta por medio de \"**and**\" y \"**or**.\" Esto se debe a que los condicionales anidados no se utilizan para adicionar condiciones a un condicional; se utilizan porque hay más código o decisiones adicionales que tomar luego del primer condicional."
      ]
    },
    {
      "cell_type": "code",
      "metadata": {
        "id": "kL5-y79ugXsY"
      },
      "source": [
        "\"\"\" Copie el siguiente código en https://pythontutor.com/visualize.html#mode=edit y observe\n",
        "el paso a paso de la ejecución.\n",
        "\"\"\"\n",
        "\n",
        "porcentaje = 20\n",
        "x = 2\n",
        "y = 3\n",
        "\n",
        "# If sencillo\n",
        "if x==2 and y==3:\n",
        "    print(\"If sencillo.\")\n",
        "\n",
        "# If sencillo pero anidado. Esto es considerado una mala práctica de programación.\n",
        "if x==2:\n",
        "    if y==3:\n",
        "        print(\"If sencillo anidado: Mala práctica.\")\n",
        "\n",
        "# If anidado: se realizan operaciones antes del siguiente if.\n",
        "if x==2:\n",
        "    y +=1\n",
        "    if y==3:\n",
        "        print(\"If anidado\")\n",
        "    else:\n",
        "        print(\"Else del if anidado\")\n",
        "else:\n",
        "    print(\"Else del if principal\")"
      ],
      "execution_count": null,
      "outputs": []
    },
    {
      "cell_type": "markdown",
      "metadata": {
        "id": "3-3r4_iIgXJr"
      },
      "source": [
        "# Iteración definida: el ciclo *for*\n",
        "Muchas veces la ejecución de un algoritmo requiere realizar una misma operación varias veces. Por ejemplo, si se quiere mostrar todos los números que cumplan una condición particular entre 1 y N, se debe recorrer cada número, realizar una comparación y con base en esta, determinar si se muestra o no el resultado por pantalla.\n",
        "\n",
        "Se debe recorrer N números y realizar N comparaciones. Es decir, para un valor específico de N, siempre se hará la misma cantidad de operaciones. Esto es lo que caracteriza la iteración definida. En teoría, se podría escribir manualmente la cantidad de instrucciones necesarias si el valor de N nunca fuera a cambiar.\n",
        "\n",
        "Sin embargo, escribir esto explícitamente resultaría tedioso y poco práctico. En esta clase de situaciones es conveniente utilizar un ciclo *for*:"
      ]
    },
    {
      "cell_type": "code",
      "metadata": {
        "id": "UhWV0XRMgXJr"
      },
      "source": [
        "\"\"\" Copie el siguiente código en https://pythontutor.com/visualize.html#mode=edit y observe\n",
        "el paso a paso de la ejecución.\n",
        "\"\"\"\n",
        "\n",
        "inicio = 0\n",
        "fin = 10\n",
        "incremento = 1\n",
        "for i in range(inicio, fin, incremento):\n",
        "    # El código va aquí\n",
        "    print(i)\n",
        "\n",
        "# El cambio de sangría indica el fin del ciclo.\n",
        "print(\"Este código ya no hace parte del ciclo\")"
      ],
      "execution_count": null,
      "outputs": []
    },
    {
      "cell_type": "markdown",
      "metadata": {
        "id": "n36Ahr5NgXJr"
      },
      "source": [
        "# Función range()\n",
        "\n",
        "A continuación se explican las diferentes variables que se ulizan en la función <b>range()</b>:\n",
        "\n",
        "* **i** : variable que servirá para contar las iteraciones del ciclo for. En este caso, es una especie de contador.\n",
        "* **inicio** : el valor inicial que se le dará a la variable **i**. Si se omite, se asume que tiene un valor de 0.\n",
        "* **fin** : el valor final que puede tomar la variable **contador**. El ciclo for dejará de ejecutarse cuando el contador iguale o supere este valor.\n",
        "* **incremento** : variable que indica de cuánto en cuánto aumentará el valor del **contador**. si toma un valor negativo, el contador irá disminuyendo. Si no se asigna un valor, se asume que el contador aumenta de uno en uno.\n",
        "\n",
        "La función **range()** genera unos valores numéricos en un rango específico. Este rango actua como una tupla en el sentido de que sus valores no pueden ser modificados. Sin embargo, no se puede crear un rango de otras variables, lo que diferencia el rango creado por **range()** de una tupla de números.\n",
        "\n",
        "El ciclo *for* tiene otros usos. Particularmente, resulta muy útil para recorrer una lista de elementos uno a uno y realizar operaciones sobre cada uno de estos.\n",
        "\n",
        "Por ejemplo, si se quiere determinar si un estudiante ganó una materia, se debe de analizar cada nota individual y obtener un promedio con ellas. El ciclo for resulta útil para recorrer la lista de notas:"
      ]
    },
    {
      "cell_type": "code",
      "metadata": {
        "id": "Obv2x6fZgXJr"
      },
      "source": [
        "\"\"\" Copie el siguiente código en https://pythontutor.com/visualize.html#mode=edit y observe\n",
        "el paso a paso de la ejecución.\n",
        "\"\"\"\n",
        "\n",
        "estudiante1 = [4.0, 4.2, 3.9]\n",
        "\n",
        "for i in estudiante1:\n",
        "    print(i)"
      ],
      "execution_count": null,
      "outputs": []
    },
    {
      "cell_type": "markdown",
      "metadata": {
        "id": "fCCyTo6tgXJr"
      },
      "source": [
        "En este caso, la variable **i** no actúa como contador, sino que toma el valor de cada uno de los elementos de la lista, independiente de cual sea el tipo de estos.\n",
        "\n"
      ]
    },
    {
      "cell_type": "markdown",
      "metadata": {
        "id": "Yb_Z-dKfq8tv"
      },
      "source": [
        "## uso de **continue**, **break** and **else** dentro de un ciclo **for**:\n",
        "\n",
        "Adicionalmente, se pueden utilizar las siguientes palabras claves dentro de ciclos for:\n",
        "\n",
        "* **continue**: utilizada cuando se quiere que el ciclo **for** interrumpa la iteración actual y salte a la siguiente.\n",
        "* **break**: utilizada cuando se quiere romper el ciclo **for** y dejar de realizar las iteraciones por completo.\n",
        "* **else**: Se utiliza al final del ciclo; a manera de \"una última instrucción\" cuando **i** ya no se encuentre en el rango (o lista) especificado. No se puede utilizar elif. Nunca es ejecutada si se usa un «**break**» para salir del ciclo."
      ]
    },
    {
      "cell_type": "code",
      "metadata": {
        "id": "7hOlFl0jgXJr"
      },
      "source": [
        "\"\"\" Copie el siguiente código en https://pythontutor.com/visualize.html#mode=edit y observe\n",
        "el paso a paso de la ejecución.\n",
        "\"\"\"\n",
        "\n",
        "# Ejecute estas instrucciones y observe el resultado obtenido\n",
        "\n",
        "for i in range(21,100):\n",
        "    if ((i % 5) == 0):\n",
        "        # Pasar a la siguiente iteración.\n",
        "        continue\n",
        "\n",
        "    # Imprimir el valor de i. Solo hace esto en los casos que i NO es múltiplo de 5:\n",
        "    print (i)\n",
        "\n",
        "    if ((i % 33) == 0):\n",
        "        #Se interrumpe completamente el ciclo:\n",
        "        break\n",
        "else:\n",
        "    # En este caso, esta instrucción no se ejecuta porque se interrumpió todo el ciclo con un \"break\"\n",
        "    print(\"Hola!\")"
      ],
      "execution_count": null,
      "outputs": []
    },
    {
      "cell_type": "markdown",
      "metadata": {
        "id": "ktrwGB0GgXJr"
      },
      "source": [
        "## Contadores y acumuladores\n",
        "Un contador es una variable que se utiliza para contar la cantidad de veces que algo ocurre.\n",
        "\n",
        "Los acumuladores, por otra parte, se utilizan para guardar una variable e irla modificando en el tiempo, generalmente por medio de una suma o un producto.\n",
        "\n",
        "Por ejemplo, se quiere sumar todos los múltiplos de 3 entre 1 y 50 y contar cuántos son. Para esto, se emplea un acumulador y un contador dentro de una iteración de la siguiente forma:"
      ]
    },
    {
      "cell_type": "code",
      "metadata": {
        "id": "eUggR58kgXJr"
      },
      "source": [
        "\"\"\" Copie el siguiente código en https://pythontutor.com/visualize.html#mode=edit y observe\n",
        "el paso a paso de la ejecución.\n",
        "\"\"\"\n",
        "\n",
        "# Variable para calcular la suma de todos los múltiplos de 3 en un rango\n",
        "acumulador = 0\n",
        "\n",
        "# Variable para contar la cantidad de múltiplos de 3 en un rango\n",
        "contador = 0\n",
        "\n",
        "for i in range(1, 50):\n",
        "    if((i % 3) == 0):\n",
        "        # Contar un elemento que es múltiplo de tres\n",
        "        contador = contador + 1\n",
        "\n",
        "        # Agregar a la sumatoria el valor del elemento que es múltiplo de tres\n",
        "        acumulador = acumulador + i\n",
        "\n",
        "        print(\"contador: \", contador)\n",
        "        print(\"acumulador: \", acumulador)\n",
        "        print(\"====\")\n",
        "\n",
        "print(\"Se encontraron\",contador, \"múltiplos de 3 (entre 1 y 50)\")\n",
        "print(\"Los múltiplos de 3 (entre 1 y 50) suman\", acumulador)"
      ],
      "execution_count": null,
      "outputs": []
    },
    {
      "cell_type": "markdown",
      "metadata": {
        "id": "r2dMQi1kgXJr"
      },
      "source": [
        "# Iteración indefinida:  el ciclo *while*\n",
        "Ocasionalmente, un algoritmo requiere realizar una misma operación varias veces. Sin embargo, no siempre es posible conocer de antemano la cantidad de veces que se deberá realizar dicha operación. A veces, es necesario realizar una operación hasta que ocurra \"algo\" en particular, no hasta que haya sido ejecutada N cantidad de veces.\n",
        "\n",
        "La principal diferencia entre un ciclo *for* y un ciclo *while* es que el ciclo *while* permite realizar iteraciones con base en cualquier condición que se pueda expresar como una expresión lógica.\n"
      ]
    },
    {
      "cell_type": "markdown",
      "metadata": {
        "id": "n26OlwYAgXJ7"
      },
      "source": [
        "El código dentro del ciclo *while* sólo se ejecutará si la expresion logica es verdadera, y el ciclo se repetirá evaluando el valor de ella a cada paso. En el momento que esta sea falsa, las iteraciones se detienen y el código continúa.\n",
        "\n",
        "Es importante realizar algún tipo de operación para ir modificando el valor de verdad de la expresión lógica dentro del ciclo *while*. En caso de no hacerlo, el resultado es un ciclo infinito. Esto quiere decir que el ciclo continuará ejecutándose sin cesar, lo que hará que el programa \"se quede pensando\" o que ocurra un desbordamiento de memoria, causando que el programa se cierre a la fuerza (similar a la famosa pantalla azul de Windows).\n",
        "\n",
        "Considere el siguiente código:"
      ]
    },
    {
      "cell_type": "code",
      "metadata": {
        "id": "v3dkp0FSgXJ7"
      },
      "source": [
        "\"\"\" Copie el siguiente código en https://pythontutor.com/visualize.html#mode=edit y observe\n",
        "el paso a paso de la ejecución.\n",
        "\"\"\"\n",
        "\n",
        "# Asignar un valor inicial a la variable n\n",
        "n = 20\n",
        "\n",
        "# se genera un ciclo que se ejecutará mientras se cumpla una condición\n",
        "while (n < 30):\n",
        "    n = n + 1\n",
        "    print(\"Sigo dentro del ciclo while, el valor de n es: \", n)\n",
        "\n",
        "print(\"Salí del ciclo while, el valor de n es: \", n)"
      ],
      "execution_count": null,
      "outputs": []
    },
    {
      "cell_type": "markdown",
      "metadata": {
        "id": "hSX5Vud6ofrK"
      },
      "source": [
        "\n",
        "Por ejemplo, se quiere sumar los números enteros de 1 en adelante hasta que la sumatoria sea superior a 200. No se sabe cuántos números serán sumados, pero sí se sabe que el algoritmo debe parar cuando se cumpla una condición."
      ]
    },
    {
      "cell_type": "code",
      "metadata": {
        "id": "Sqv_em7KgXJr"
      },
      "source": [
        "\"\"\" Copie el siguiente código en https://pythontutor.com/visualize.html#mode=edit y observe\n",
        "el paso a paso de la ejecución.\n",
        "\"\"\"\n",
        "\n",
        "#Acumulador para la suma\n",
        "suma = 0\n",
        "\n",
        "#Variable para sumar los numeros enteros\n",
        "i = 1\n",
        "\n",
        "while (suma <= 200):\n",
        "    suma = suma + i\n",
        "\n",
        "    #i debe aumentar\n",
        "    i = i + 1\n",
        "    print(i)\n",
        "\n",
        "print(\"La suma es:\", suma)"
      ],
      "execution_count": null,
      "outputs": []
    },
    {
      "cell_type": "markdown",
      "metadata": {
        "id": "jxRpkpSOgXJ7"
      },
      "source": [
        "En este caso, el código dentro del ciclo **while** se ejecutará mientras que n sea mayor que 0. Puesto que n tomó un valor inicial de 1 y en cada iteración del ciclo se aumenta su valor en 1, siempre será mayor que 0, así que el ciclo nunca se detendrá y eventualmente el programa colapsará.\n",
        "\n",
        "De forma similar a los ciclos **for**, se pueden utilizar contadores, acumuladores y las palabras clave **continue**, **break** y **else**."
      ]
    },
    {
      "cell_type": "markdown",
      "metadata": {
        "id": "zV447iTGd4Tw"
      },
      "source": [
        "## uso de **continue**, **break** and **else** dentro de un ciclo **while**:\n",
        "\n",
        "Se pueden utilizar las siguientes palabras claves dentro de ciclos **while**:\n",
        "\n",
        "* **continue**: utilizada cuando se quiere que el ciclo **while** interrumpa la iteración actual y salte a la siguiente.\n",
        "* **break**: utilizada cuando se quiere romper el ciclo **while** y dejar de realizar las iteraciones por completo.\n",
        "* **else**: Se utiliza al final del ciclo; a manera de \"una última instrucción\" cuando la evaluación del ciclo **while** sea igual a **False**. No se puede utilizar elif. Nunca es ejecutada si se usa un «**break**» para salir del ciclo."
      ]
    },
    {
      "cell_type": "code",
      "metadata": {
        "id": "0YGyZiY6d4Ty"
      },
      "source": [
        "\"\"\" Copie el siguiente código en https://pythontutor.com/visualize.html#mode=edit y observe\n",
        "el paso a paso de la ejecución.\n",
        "\"\"\"\n",
        "\n",
        "x = 0\n",
        "\n",
        "while x<=50:\n",
        "    if ((x % 5) == 0):\n",
        "        # Pasar a la siguiente iteración.\n",
        "        x +=1\n",
        "        continue\n",
        "\n",
        "    # Imprimir el valor de i. Solo hace esto en los casos que i NO es múltiplo de 5:\n",
        "    print (x)\n",
        "    x += 1\n",
        "\n",
        "    if ((x % 33) == 0):\n",
        "        #Se interrumpe completamente el ciclo:\n",
        "        break\n",
        "else:\n",
        "    # En este caso, esta instrucción no se ejecuta porque se interrumpió todo el ciclo con un \"break\"\n",
        "    print(\"Hola!\")"
      ],
      "execution_count": null,
      "outputs": []
    },
    {
      "cell_type": "markdown",
      "metadata": {
        "id": "DgTBmZqqgXsb"
      },
      "source": [
        "# Iteración anidada\n",
        "Hay casos en los que se requiere realizar una iteración dentro de otra. Por ejemplo, se desea conocer la nota que obtuvo cada estudiante en una lista de estudiantes."
      ]
    },
    {
      "cell_type": "code",
      "metadata": {
        "id": "Y8gpiFc3gXsc"
      },
      "source": [
        "\"\"\" Copie el siguiente código en https://pythontutor.com/visualize.html#mode=edit y observe\n",
        "el paso a paso de la ejecución.\n",
        "\"\"\"\n",
        "\n",
        "estudiante1 = [\"Andres\", 3.0]\n",
        "estudiante2 = [\"Sara\", 4.2]\n",
        "estudiante3 = [\"Daniela\", 2.8]\n",
        "\n",
        "lista_estudiantes = [estudiante1, estudiante2, estudiante3]\n",
        "\n",
        "for estudiante in lista_estudiantes:\n",
        "    for atributo in estudiante:\n",
        "        print(atributo)\n",
        "    print(\"====\")"
      ],
      "execution_count": null,
      "outputs": []
    },
    {
      "cell_type": "markdown",
      "metadata": {
        "id": "DBlGof3fgXsf"
      },
      "source": [
        "Este código toma una lista compuesta de listas más pequeñas (en este caso, estudiantes con un nombre y una nota), e imprime cada uno de los elementos.\n",
        "\n",
        "Vale la pena notar que para cada iteración del ciclo externo (sea un for o un while), el ciclo interno se ejecutará. En el ejemplo anterior, el ciclo interno se ejecutará tres veces, y en cada una de esas ejecuciones, hará dos operaciones (una para cada atributo de estudiante). Esto permite concluir que la cantidad de veces que se repite el código dentro del ciclo interno corresponde a la cantidad de iteraciones internas multiplicadas por las externas."
      ]
    },
    {
      "cell_type": "code",
      "metadata": {
        "id": "7PRwcSwngXsg"
      },
      "source": [
        "\"\"\" Copie el siguiente código en https://pythontutor.com/visualize.html#mode=edit y observe\n",
        "el paso a paso de la ejecución.\n",
        "\"\"\"\n",
        "\n",
        "estudiante1 = [4.0, 4.2, 3.9]\n",
        "estudiante2 = [3.0, 3.2, 4.9]\n",
        "estudiante3 = [2.0, 3.6, 2.6]\n",
        "estudiante4 = [1.0, 2.7, 1.8]\n",
        "listaEstudiantes = [estudiante1, estudiante2, estudiante3, estudiante4]\n",
        "\n",
        "contadorInterno = 0\n",
        "contadorExterno = 0\n",
        "aux = 0\n",
        "for i in listaEstudiantes:\n",
        "    while aux < 3:\n",
        "        print(i[aux])\n",
        "        contadorInterno = contadorInterno + 1\n",
        "        aux= aux + 1\n",
        "    print(\"====\")\n",
        "    contadorExterno = contadorExterno + 1\n",
        "    aux = 0\n",
        "\n",
        "print(\"Cantidad de iteraciones externas: \", contadorExterno)\n",
        "print(\"Cantidad total de iteraciones (incluye internas y externas): \", contadorInterno)"
      ],
      "execution_count": null,
      "outputs": []
    }
  ]
}